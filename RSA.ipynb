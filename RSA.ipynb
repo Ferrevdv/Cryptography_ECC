{
 "cells": [
  {
   "cell_type": "markdown",
   "metadata": {},
   "source": [
    "# RSA - Computeroefening"
   ]
  },
  {
   "cell_type": "markdown",
   "metadata": {},
   "source": [
    "Naam: Ferre Van der Vieren (r0851455)"
   ]
  },
  {
   "cell_type": "markdown",
   "metadata": {},
   "source": [
    "Dit eerste practicum gaat over RSA. Het is echter nog steeds de bedoeling dat je alles wat hier geprogrammeerd zal worden ook met de hand en rekenmachine kan uitrekenen, maar vaak verkrijg je pas echt inzicht in een probleem als je het eens zelf implementeert. Het is dus sterk aangeraden zelf goed na te denken over wat je programmeert. Om jullie op weg te helpen is telkens de signatuur van de methodes gegeven, gelieve deze niet te veranderen. Je mag uiteraard zelf hulpmethodes en comments invoegen om je code duidelijker te maken. Er wordt af en toe gevraagd een antwoord aan te vullen in de notebook, het is overzichtelijker om dit in kleur te doen. "
   ]
  },
  {
   "cell_type": "markdown",
   "metadata": {},
   "source": [
    "## Modulaire exponentiatie"
   ]
  },
  {
   "cell_type": "markdown",
   "metadata": {},
   "source": [
    "Voor het XS binair algoritme is de binaire voorstelling van een de exponent nodig. Vul de code in de onderstaande methode aan zodat de methode een lijst met enen en nullen terug geeft, die een binaire voorstelling van b is. De bit behorende bij de laagste macht van 2 staat vanvoor in de lijst en de bit behorende bij de hoogste macht van 2 staat vanachter."
   ]
  },
  {
   "cell_type": "code",
   "execution_count": 77,
   "metadata": {},
   "outputs": [],
   "source": [
    "def bits(b):\n",
    "    bits = []\n",
    "    \n",
    "    n = b\n",
    "    while n != 0:\n",
    "        bit = n % 2\n",
    "        bits.append(bit)\n",
    "        n = n // 2\n",
    "        \n",
    "    return bits"
   ]
  },
  {
   "cell_type": "markdown",
   "metadata": {},
   "source": [
    "Vul de onderstaande methode verder aan zodat het XS binair algoritme wordt geimplementeerd. Het resultaat is $r = a^b \\mod{m}$."
   ]
  },
  {
   "cell_type": "code",
   "execution_count": 78,
   "metadata": {},
   "outputs": [],
   "source": [
    "def mod_exp(a, b, m):\n",
    "    r = 1\n",
    "    \n",
    "    exp_bits = bits(b)\n",
    "    for i in range(len(exp_bits)-1, 0, -1):\n",
    "        if exp_bits[i] == 1:\n",
    "            r = (r*a)%m\n",
    "        r = (r*r)%m\n",
    "    if exp_bits[0] == 1:\n",
    "        r = (r*a)%m\n",
    "    \n",
    "    return r"
   ]
  },
  {
   "cell_type": "markdown",
   "metadata": {},
   "source": [
    "Vergelijk de snelheid van je implementatie met de naı̈ve en ingebouwde implementatie van\n",
    "modulaire exponentiatie in python. (Hint: $\\texttt{pow}$) Het resultaat is een mooie staafdiagram met drie staven met op de x-as de naam van de methode en op de y-as de snelheid in zelfgekozen eenheden."
   ]
  },
  {
   "cell_type": "code",
   "execution_count": 166,
   "metadata": {},
   "outputs": [
    {
     "data": {
      "image/png": "[encoded data removed]",
      "text/plain": [
       "<Figure size 432x288 with 1 Axes>"
      ]
     },
     "metadata": {
      "needs_background": "light"
     },
     "output_type": "display_data"
    }
   ],
   "source": [
    "import matplotlib.pyplot as plt\n",
    "import numpy as np\n",
    "from timeit import default_timer as timer\n",
    "\n",
    "# genereer willekeurige getallen\n",
    "a = int(np.random.randint(1000, 5000, 1))\n",
    "b = int(np.random.randint(1000, 5000, 1))\n",
    "m = int(np.random.randint(20000, 200000, 1))\n",
    "\n",
    "# test methodes op getallen\n",
    "# eigen implementatie\n",
    "start = timer()\n",
    "mod_exp(a, b, m)\n",
    "end = timer()\n",
    "res1 = end - start\n",
    "\n",
    "# naïeve implementatie\n",
    "start = timer()\n",
    "a**b % m\n",
    "end = timer()\n",
    "res2 = end - start\n",
    "\n",
    "# ingebouwde implementatie\n",
    "start = timer()\n",
    "pow(a, b, m)\n",
    "end = timer()\n",
    "res3 = end - start\n",
    "\n",
    "# plot resultaten\n",
    "x_axis = np.array([\"eigen methode\", \"naïeve methode\", \"ingebouwde methode\"])\n",
    "y_axis = np.array([res1, res2, res3])\n",
    "plt.bar(x_axis, y_axis)\n",
    "plt.ylabel(\"uitvoeringstijd (s)\")\n",
    "plt.title(\"Uitvoeringstijd verschillende implementaties\")\n",
    "plt.show()"
   ]
  },
  {
   "cell_type": "markdown",
   "metadata": {},
   "source": [
    "In hoogstens een paar zinnen, leg kort uit waarom je deze resultaten kan verwachten."
   ]
  },
  {
   "cell_type": "markdown",
   "metadata": {},
   "source": [
    "**Antwoord**: De naïeve methode duurt logischerwijs het langst, aangezien deze niet gebruik maakt van eigenschappen van modulorekenen met machten; we berekenen eerst de macht en dan pas de modulo van de resulterende macht. De eigen implementatie incorporeert dit modulorekenen met machten wel aan de hand van het XS binair algoritme, waardoor het significant sneller is dan de naïeve methode. De ingebouwde methode is uiteindelijk toch iets sneller, wat te wijden is aan de enorm grote optimalisatie dat de Python developers gebruiken bij ingebouwde methodes. Het is dan ook een positief gegeven dat onze eigen implemenatie zo dicht komt bij een dergelijk rigoureuze geoptimaliseerde (ingebouwde) methode."
   ]
  },
  {
   "cell_type": "markdown",
   "metadata": {},
   "source": [
    "## Pseudopriemtesten"
   ]
  },
  {
   "cell_type": "markdown",
   "metadata": {},
   "source": [
    "Met een paar kleine aanpassingen kan je het XS binair algoritme gebruiken voor de sterke priemtest. Vul onderstaande methodes aan zodat de modulaire exponentiatie de sequentie van tussenstappen weergeeft. En zodat de methode strong_pseudoprime(a, m) deze sequentie inspecteert en de waarde True teruggeeft als het getal m slaagt voor de sterke a-pseudopriemtest."
   ]
  },
  {
   "cell_type": "code",
   "execution_count": 167,
   "metadata": {},
   "outputs": [],
   "source": [
    "def  mod_exp_seq(a, b, m):\n",
    "    seq = [1]\n",
    "    r = 1\n",
    "    exp_bits = bits(b)\n",
    "    \n",
    "    for i in range(len(exp_bits)-1, 0, -1):\n",
    "        if exp_bits[i] == 1:\n",
    "            r = (r*a)%m\n",
    "            seq.append(r)\n",
    "        r = (r*r)%m\n",
    "        seq.append(r)\n",
    "        \n",
    "    if exp_bits[0] == 1:\n",
    "        r = (r*a)%m\n",
    "        seq.append(r)\n",
    "    \n",
    "    return seq\n",
    "\n",
    "def strong_pseudoprime(a, m): \n",
    "    seq = mod_exp_seq(a, m - 1, m)\n",
    "\n",
    "    if (seq[len(seq)-1]) != 1:\n",
    "        return False  # case (...b)\n",
    "    \n",
    "    for num in reversed(seq):\n",
    "        if num != 1:\n",
    "            if num != (m-1):   # m-1 = -1\n",
    "                return False   # case (...,b,1,...,1)\n",
    "            else:\n",
    "                return True    # case (...,-1,1,...,1)\n",
    "            \n",
    "    return True  # case (1,1,...,1)"
   ]
  },
  {
   "cell_type": "code",
   "execution_count": 168,
   "metadata": {},
   "outputs": [
    {
     "name": "stdout",
     "output_type": "stream",
     "text": [
      "True\n",
      "False\n",
      "False\n"
     ]
    }
   ],
   "source": [
    "print(strong_pseudoprime(2, 257))\n",
    "print(strong_pseudoprime(2, 561))\n",
    "print(strong_pseudoprime(2, 287))"
   ]
  },
  {
   "cell_type": "markdown",
   "metadata": {},
   "source": [
    "In max. 1 zin per getal, wat kunnen we concluderen over de getallen uit bovenstaande getallen?"
   ]
  },
  {
   "cell_type": "markdown",
   "metadata": {},
   "source": [
    "**Antwoord**: Het getal 256 slaagt voor de sterke 2-priemtest (case 2), en is dus waarschijnlijk een priemgetal (we kunnen dit echter niet met volledige zekerheid besluiten!). De getallen 561 en 287 slagen beide niet voor de sterke 2-priemtest (case 3 en 4 respectievelijk), en zijn dus zeker geen priemgetallen. "
   ]
  },
  {
   "cell_type": "markdown",
   "metadata": {},
   "source": [
    "## RSA"
   ]
  },
  {
   "cell_type": "markdown",
   "metadata": {},
   "source": [
    "Bij RSA worden boodschappen niet noodzakelijk letter per letter vercijferd, maar in blokken van zo groot mogelijke\n",
    "woorden. Dit kan op verschillende manieren verkregen worden. Hier gebeurt dit bijvoorbeeld door verschillende numerieke waarden aan elkaar te plakken, ZZ wordt dan 2626. Het gebruikte alfabet is hieronder weergegeven."
   ]
  },
  {
   "cell_type": "markdown",
   "metadata": {},
   "source": [
    "\n",
    "|_|a|b|c|d|e|f|g|h|i|j|k|l|m|n|o|p|q|r|s|t|u|v|w|x|y|z|\n",
    "|-|-|-|-|-|-|-|-|-|-|-|-|-|-|-|-|-|-|-|-|-|-|-|-|-|-|-|\n",
    "|   0  | 1 | 2| 3| 4| 5|6|7|8|9|10|11|12|13|14|15|16|17|18|19|20|21|22|23|24|25|26|\n"
   ]
  },
  {
   "cell_type": "markdown",
   "metadata": {},
   "source": [
    "Implementeer eerst een methode die op basis van de modulus bepaalt hoe lang de woorden zijn."
   ]
  },
  {
   "cell_type": "code",
   "execution_count": 165,
   "metadata": {},
   "outputs": [],
   "source": [
    "def length(m):\n",
    "    temp = 0\n",
    "    leng = 0\n",
    "    \n",
    "    while temp <= m:\n",
    "        temp = int(str(temp) + str(26))  # add 26 to the end of the size of temp\n",
    "        leng += 1\n",
    "    return leng - 1"
   ]
  },
  {
   "cell_type": "markdown",
   "metadata": {},
   "source": [
    "Vul nu de volgden methode aan zodat de boodschap vercijferd wordt met de RSA methode. Het resultaat is een lijst met gehele getallen modulo $p\\cdot q$. "
   ]
  },
  {
   "cell_type": "code",
   "execution_count": 135,
   "metadata": {},
   "outputs": [],
   "source": [
    "def to_number(letter):\n",
    "    # use UNICODE alphabet\n",
    "    if letter != '': # no space\n",
    "        return ord(letter) - 96\n",
    "    else:\n",
    "        return 0\n",
    "        \n",
    "def encrypt(message, e, p, q):\n",
    "    result = []\n",
    "    leng = length(p*q)\n",
    "    \n",
    "    for i in range(0, len(message), leng):\n",
    "        c = mod_exp(to_number(message[i:i+leng]), e, p*q)\n",
    "        result.append(c)\n",
    "    return result"
   ]
  },
  {
   "cell_type": "markdown",
   "metadata": {},
   "source": [
    "Om een boodschap te ontcijferen moet je ongeveer hetzelfde doen. Vul onderstaande methode verder aan zodat je een enkele string met de originele boodschap krijgt."
   ]
  },
  {
   "cell_type": "code",
   "execution_count": 154,
   "metadata": {},
   "outputs": [],
   "source": [
    "def to_letter(number):\n",
    "    # use UNICODE alphabet\n",
    "    if (number != 0): # no space\n",
    "        return chr(96+number)\n",
    "    else:\n",
    "        return ' '\n",
    "    \n",
    "def decrypt(message, d, p, q):\n",
    "    res = ''\n",
    "    \n",
    "    # make sure leading zeroes are added at the correct places\n",
    "    for i in range(len(message)):\n",
    "        w = str(mod_exp(int(message[i]), d, p*q))\n",
    "        if (i != len(message) - 1):  # not needed if last character!\n",
    "            while len(w) < (length(p*q)*2):\n",
    "                w = \"0\" + w\n",
    "        res = res + w\n",
    "    \n",
    "    # transform resulting number sequence into letters (in pairs of two for each letter)\n",
    "    decrypted_message = ''\n",
    "    for i in range(0, len(res), 2):\n",
    "        letter = to_letter(int(res[i:i+2]))\n",
    "        decrypted_message = decrypted_message + letter\n",
    "        \n",
    "    return decrypted_message"
   ]
  },
  {
   "cell_type": "markdown",
   "metadata": {},
   "source": [
    "Als alles goed gaat moet het volgende True weergeven."
   ]
  },
  {
   "cell_type": "code",
   "execution_count": 155,
   "metadata": {},
   "outputs": [
    {
     "data": {
      "text/plain": [
       "True"
      ]
     },
     "execution_count": 155,
     "metadata": {},
     "output_type": "execute_result"
    }
   ],
   "source": [
    "message = 'test'\n",
    "c = encrypt(message, 5, 19, 17)\n",
    "w = decrypt(c, 173, 19, 17)\n",
    "w == message"
   ]
  },
  {
   "cell_type": "markdown",
   "metadata": {},
   "source": [
    "Ontcijfer volgende boodschappen\n",
    "- $(m, e) = (33, 3) \\rightarrow [17, 26, 12, 12, 09, 00, 23, 09, 24, 12, 31]$\n",
    "- $(m, e) = (8023, 3)\\rightarrow [6018, 1053, 0343, 1053, 3357, 5632]$"
   ]
  },
  {
   "cell_type": "code",
   "execution_count": 156,
   "metadata": {},
   "outputs": [
    {
     "name": "stdout",
     "output_type": "stream",
     "text": [
      "hello world\n",
      "goed gedaan \n"
     ]
    }
   ],
   "source": [
    "def calculate_d(e, p, q): # brute force since m is relatively small, can be implemented more efficiently for high values of m using the Extended Euclidean Algorithm\n",
    "    phi = (p-1)*(q-1)\n",
    "    for possible_d in range(1, p*q):\n",
    "        if ((possible_d*e) % phi) == 1:\n",
    "            return possible_d\n",
    "\n",
    "# decrypt first message\n",
    "print(decrypt([17,26,12,12,9,0,23,9,24,12,31], calculate_d(3, 11, 3), 11, 3))\n",
    "print(decrypt([6018, 1053, 343, 1053, 3357, 5632], calculate_d(3, 71, 113), 71, 113))\n"
   ]
  },
  {
   "cell_type": "code",
   "execution_count": null,
   "metadata": {},
   "outputs": [],
   "source": []
  }
 ],
 "metadata": {
  "kernelspec": {
   "display_name": "Python 3 (ipykernel)",
   "language": "python",
   "name": "python3"
  },
  "language_info": {
   "codemirror_mode": {
    "name": "ipython",
    "version": 3
   },
   "file_extension": ".py",
   "mimetype": "text/x-python",
   "name": "python",
   "nbconvert_exporter": "python",
   "pygments_lexer": "ipython3",
   "version": "3.9.7"
  }
 },
 "nbformat": 4,
 "nbformat_minor": 4
}
