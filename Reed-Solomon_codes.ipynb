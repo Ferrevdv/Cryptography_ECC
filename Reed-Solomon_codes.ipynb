{
 "cells": [
  {
   "cell_type": "markdown",
   "metadata": {},
   "source": [
    "# Reed-Solomon codes\n",
    "\n",
    "<u> Naam: Ferre Van der Vieren (r0851455)</u> \n",
    "\n",
    "In deze notebook zullen we trachten de Reed-Solomon code te implementeren. \n",
    "\n",
    "## Coderen\n",
    "\n",
    "Implementeer de method $\\texttt{encode(w, a, p)}$ die een informatiewoord $w$ van elementen over het veld $\\mathbb{Z}_p$ omzet in een codewoord, gegeven de lijst van interpolatiepunten $a$."
   ]
  },
  {
   "cell_type": "code",
   "execution_count": 192,
   "metadata": {},
   "outputs": [
    {
     "name": "stdout",
     "output_type": "stream",
     "text": [
      "True\n"
     ]
    }
   ],
   "source": [
    "import numpy as np\n",
    "\n",
    "def encode(w, a, p):\n",
    "    F = np.vander(a, len(w), increasing = True)\n",
    "    c = F.dot(w) % p\n",
    "    return c\n",
    "\n",
    "w = np.array([1,2,3])\n",
    "a = np.array([1,2,3,4,5,6,7])\n",
    "p = 11\n",
    "print((encode(w,a,p)==np.array([6, 6, 1, 2, 9, 0, 8])).all())"
   ]
  },
  {
   "cell_type": "markdown",
   "metadata": {},
   "source": [
    "## Decoderen\n",
    "\n",
    "Implementeer hieronder een methode om een lijst van codewoorden te ontcijferen. Je hebt opnieuw Gauss eliminatie over het veld $\\mathbb{Z}_p$ nodig om de veeltermen $G(x)$ en $E(x)$ te vinden, dit kan je kopiëren uit vorige notebook, dezelfde opmerking geldt."
   ]
  },
  {
   "cell_type": "code",
   "execution_count": 193,
   "metadata": {
    "scrolled": true
   },
   "outputs": [],
   "source": [
    "# @return\n",
    "    #  if (bezout == False): gcd(a, b)\n",
    "    #  if (bezout == True): Bezout's identity coefficients s and t for which gcd(a, b) = s*a + t*b\n",
    "def eaa(x, y, bezout = True):\n",
    "    (a, new_a) = (x, y)\n",
    "    (b, new_b) = (1, 0)\n",
    "    (c, new_c) = (0, 1)\n",
    "    \n",
    "    while new_a != 0:\n",
    "        q = a // new_a  # devide then .floor\n",
    "        \n",
    "        # coefficients\n",
    "        (a, new_a) = (new_a, a - q * new_a)\n",
    "        (b, new_b) = (new_b, b - q * new_b)\n",
    "        (c, new_c) = (new_c, c - q * new_c)\n",
    "        \n",
    "    if (bezout):\n",
    "        return (b, c)\n",
    "    return a\n",
    "\n",
    "def gcd(a, m):\n",
    "    return eaa(a, m, False)\n",
    "\n",
    "def inv(a, q):\n",
    "    if (gcd(a, q) != 1):  # if gcd(a, q) != 1, then a is not a unit\n",
    "        return False\n",
    "    b = eaa(a, q)\n",
    "    return (b[0] % q)\n",
    "    \n",
    "def gauss(A, p):\n",
    "    dim = A.shape\n",
    "    \n",
    "    if (dim[0] > dim[1]): # F must be transposed\n",
    "        A = np.transpose(A)\n",
    "        dim = A.shape\n",
    "\n",
    "    for i in range(dim[0]):\n",
    "        if A[i][i] != 0:\n",
    "            A[i] = np.dot(A[i], inv(A[i][i], p))\n",
    "\n",
    "            # \n",
    "            for j in range(dim[0]):\n",
    "                if i == j:  # skip pivot row\n",
    "                    continue\n",
    "                A[j] = np.add(A[j], np.dot(A[i], -1 * A[j][i])) % p\n",
    "\n",
    "    return A % p"
   ]
  },
  {
   "cell_type": "markdown",
   "metadata": {},
   "source": [
    "Nadat je $G(x)$ en $E(x)$ gevonden hebt, kan je $W(x)$ vinden door $G(x)$ te delen door $E(x)$. Hiervoor kan je de staartdeling voor veeltermen gebruiken. Implementeer de methode $\\texttt{long_div(a, b, p)}$ die de veelterm $a(x)$ deelt door $b(x)$ over het veld $\\mathbb{Z}_p$. *Hint: de klasse numpy.polynomial.Polynomial heeft een aantal ingebouwde veeltermbewerkingen en vermindert het implementatiewerk.*"
   ]
  },
  {
   "cell_type": "code",
   "execution_count": 194,
   "metadata": {},
   "outputs": [],
   "source": [
    "from numpy import polynomial\n",
    "\n",
    "def long_div(a, b, p):\n",
    "    q, r = np.polydiv(a, b)\n",
    "    return np.mod(q, p)"
   ]
  },
  {
   "cell_type": "markdown",
   "metadata": {},
   "source": [
    "Implementeer vervolgens de methode $\\texttt{decode(c, a, n, p)}$ die het codewoord $c$ waarbij al dan niet fouten zijn ontstaan bij de transmissie decodeert naar zijn originele vorm."
   ]
  },
  {
   "cell_type": "code",
   "execution_count": 195,
   "metadata": {},
   "outputs": [],
   "source": [
    "def decode(c, a, n, p):\n",
    "    N = len(a)\n",
    "    e = (N - n)//2  # since N = n + 2e\n",
    "    M = np.zeros([N, N+1]).astype(int)\n",
    "    \n",
    "    for i in range(N):\n",
    "        # first n+e kolommen of M (only dependent on interpolation points)\n",
    "        for j in range(n + e):\n",
    "            M[i][j] = a[i]**j\n",
    "        # remaining columns of M (dependend on received c)\n",
    "        for j in range(n + e, N + 1):\n",
    "            M[i][j] = (-c[i]) * (a[i]**(j - (n+e)))\n",
    "    \n",
    "    A = gauss(M, p)\n",
    "    k = np.sum(~A.any(1))   # k := amount of zero rows\n",
    "    \n",
    "    # calculate x and y by extracting columns after Gauss elimination\n",
    "    x = -(A[0: N - k, N - k])    \n",
    "    y = [1] + k * [0]\n",
    "    \n",
    "    coefficients = np.concatenate((x,y))  # concatenate x and y to get coefficients\n",
    "    \n",
    "    # coefficients of G are first n+e elements\n",
    "    t = np.flip(coefficients[0:n+e], 0)\n",
    "    G = np.poly1d(t)\n",
    "    \n",
    "    s = np.flip(coefficients[n + e: N + 1], 0)\n",
    "    E = np.poly1d(s)\n",
    "    \n",
    "    W = long_div(G, E, p)\n",
    "    return np.array(W[::-1])   # flip array"
   ]
  },
  {
   "cell_type": "markdown",
   "metadata": {},
   "source": [
    "Als alles goed gegaan is zou hier nu enkel $\\texttt{True}$ mogen verschijnen."
   ]
  },
  {
   "cell_type": "code",
   "execution_count": 196,
   "metadata": {},
   "outputs": [
    {
     "name": "stdout",
     "output_type": "stream",
     "text": [
      "True\n",
      "True\n"
     ]
    }
   ],
   "source": [
    "w = [1,3,5,6]\n",
    "p = 11\n",
    "N = 8\n",
    "a = [1,2,3,4,5,6,7,8]\n",
    "c = encode(w, a, p)\n",
    "\n",
    "# Decoderen zonder fouten:\n",
    "print((w == decode(c, a, 4, p)).all())\n",
    "\n",
    "# Decoderen met het maximaal aantal fouten:\n",
    "c[0] += 3\n",
    "c[2] += 9\n",
    "c %= p\n",
    "\n",
    "print((w == decode(c, a, 4, p)).all())"
   ]
  },
  {
   "cell_type": "code",
   "execution_count": null,
   "metadata": {},
   "outputs": [],
   "source": []
  }
 ],
 "metadata": {
  "kernelspec": {
   "display_name": "Python 3 (ipykernel)",
   "language": "python",
   "name": "python3"
  },
  "language_info": {
   "codemirror_mode": {
    "name": "ipython",
    "version": 3
   },
   "file_extension": ".py",
   "mimetype": "text/x-python",
   "name": "python",
   "nbconvert_exporter": "python",
   "pygments_lexer": "ipython3",
   "version": "3.9.7"
  }
 },
 "nbformat": 4,
 "nbformat_minor": 4
}
