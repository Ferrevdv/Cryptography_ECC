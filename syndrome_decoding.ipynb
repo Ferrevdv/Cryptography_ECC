{
 "cells": [
  {
   "cell_type": "markdown",
   "metadata": {
    "pycharm": {
     "name": "#%% md\n"
    }
   },
   "source": [
    "Lineaire blok codes"
   ]
  },
  {
   "cell_type": "markdown",
   "metadata": {
    "pycharm": {
     "name": "#%% md\n"
    }
   },
   "source": [
    "<u>Naam:</u> Ferre Van der Vieren (r0851455)"
   ]
  },
  {
   "cell_type": "markdown",
   "metadata": {
    "pycharm": {
     "name": "#%% md\n"
    }
   },
   "source": [
    "In deze korte notebook zullen we stap voor stap syndroomdecodering met lineaire blok codes implementeren. Gegeven een generatormatrix $F$ en een codewoord $c$, al dan niet met een fout, is het de bedoeling om het originele woord $w$ te vinden."
   ]
  },
  {
   "cell_type": "markdown",
   "metadata": {
    "pycharm": {
     "name": "#%% md\n"
    }
   },
   "source": [
    "## Gauss eliminatie\n",
    "\n",
    "Elke generatormatrix $F$ kan omgevormd worden tot een equivalente generatormatrix met getransponeerde in volledige rij-echolonvorm. Om de code in standaardvorm te brengen passen we Gauss-eliminatie toe op de getransponeerde van de generatormatrix. We implementeren hieronder de methode $\\texttt{gauss(F, q)}$ die de generatormatrix $F$ omzet naar de equivalente code in standaardvorm. We werken steeds in het eindig veld $\\mathbb{Z}_q$ met $q$ elementen. Een deling door een bepaald getal wordt dus vervangen door een vermeningvuldiging met het multiplicatief invers van dat getal. Hierom definiëren we $\\texttt{inv(a, q)}$ die het inverse element van $a$ berekent $\\mod q$. We gebruiken hier de stelling van Bezout en het uitgebreide Euclidische algoritme voor."
   ]
  },
  {
   "cell_type": "code",
   "execution_count": 1,
   "metadata": {
    "pycharm": {
     "name": "#%%\n"
    }
   },
   "outputs": [
    {
     "output_type": "error",
     "ename": "ModuleNotFoundError",
     "evalue": "No module named 'numpy'",
     "traceback": [
      "\u001b[0;31m---------------------------------------------------------------------------\u001b[0m",
      "\u001b[0;31mModuleNotFoundError\u001b[0m                       Traceback (most recent call last)",
      "Input \u001b[0;32mIn [1]\u001b[0m, in \u001b[0;36m<cell line: 1>\u001b[0;34m()\u001b[0m\n\u001b[0;32m----> 1\u001b[0m \u001b[38;5;28;01mimport\u001b[39;00m \u001b[38;5;21;01mnumpy\u001b[39;00m \u001b[38;5;28;01mas\u001b[39;00m \u001b[38;5;21;01mnp\u001b[39;00m\n\u001b[1;32m      3\u001b[0m \u001b[38;5;28;01mdef\u001b[39;00m \u001b[38;5;21mgcd\u001b[39m(a, m):\n\u001b[1;32m      4\u001b[0m     \u001b[38;5;28;01mreturn\u001b[39;00m eaa(a, m, \u001b[38;5;28;01mFalse\u001b[39;00m)\n",
      "\u001b[0;31mModuleNotFoundError\u001b[0m: No module named 'numpy'"
     ]
    }
   ],
   "source": [
    "import numpy as np\n",
    "\n",
    "def gcd(a, m):\n",
    "    return eaa(a, m, False)\n",
    "\n",
    "# using Extended Euclidean Algorithm to efficiently calculate gcd or Bezout's identity\n",
    "# @return\n",
    "    #  if (bezout == False): gcd(a, b)\n",
    "    #  if (bezout == True): Bezout's identity coefficients s and t for which gcd(a, b) = s*a + t*b\n",
    "def eaa(x, y, bezout = True):\n",
    "    (a, new_a) = (x, y)\n",
    "    (b, new_b) = (1, 0)\n",
    "    (c, new_c) = (0, 1)\n",
    "    \n",
    "    while new_a != 0:\n",
    "        q = a // new_a\n",
    "        \n",
    "        # coefficients\n",
    "        (a, new_a) = (new_a, a - q * new_a)\n",
    "        (b, new_b) = (new_b, b - q * new_b)\n",
    "        (c, new_c) = (new_c, c - q * new_c)\n",
    "        \n",
    "    if (bezout):\n",
    "        return (b, c)\n",
    "    return a\n",
    "\n",
    "def inv(a, q):\n",
    "    if (gcd(a, q) != 1):  # if gcd(a, q) != 1, then a is not a unit\n",
    "        return False\n",
    "    b = eaa(a, q)\n",
    "    return (b[0] % q)\n",
    "\n",
    "def gauss(A, p):\n",
    "    dim = A.shape\n",
    "    \n",
    "    if (dim[0] > dim[1]): # in this case F must be transposed (for this implementation to work)\n",
    "        A = np.transpose(A)\n",
    "        dim = A.shape\n",
    "\n",
    "    for i in range(dim[0]):\n",
    "        if A[i][i] != 0:\n",
    "            inverse = inv(A[i][i], p)\n",
    "            A[i] = np.dot(A[i], inverse)\n",
    "\n",
    "            for j in range(dim[0]):\n",
    "                if i == j:  \n",
    "                    continue  # skip pivot row\n",
    "                A[j] = np.add(A[j], np.dot(A[i], -A[j][i])) % p\n",
    "    return A % p\n",
    "\n",
    "assert(inv(5, 9) == 2)\n",
    "assert(np.allclose(gauss(np.array([[2, 0], [1, 1]]), 3), np.array([[1, 0],[0, 1]])))\n",
    "assert(np.allclose(gauss(np.array([[1, 1, 2], [2, 0, 1]]), 3), np.array([[1, 0 , 2],[0,1,0]])))"
   ]
  },
  {
   "cell_type": "markdown",
   "metadata": {
    "pycharm": {
     "name": "#%% md\n"
    }
   },
   "source": [
    "## Syndroomdecoderingstabel\n",
    "\n",
    "Voor de decodering hebben we de syndroomdecoderingstabel nodig. Deze geeft aan welk syndroom door welke fout veroorzaakt wordt. Hiervoor moet men eerst de pariteitsmatrix opstellen, die uit de standaardvorm van de generatormatrix gehaald kan worden. De methode $\\texttt{parity_matrix(F, q)}$ berekent de pariteitsmatrix, gegeven een algemen generatormatrix $F$ over het veld $\\mathbb{Z}_q$. De methode $\\texttt{decoding_table(H, q)}$ geeft de syndroomdecoderingstabel weer in de vorm van een dictionary. De input $H$ is de pariteitsmatrix van een code."
   ]
  },
  {
   "cell_type": "code",
   "execution_count": 2,
   "metadata": {
    "pycharm": {
     "name": "#%%\n"
    }
   },
   "outputs": [],
   "source": [
    "import itertools\n",
    "\n",
    "def parity_matrix(F, q):\n",
    "    G = gauss(F, q)\n",
    "    n = G.shape[0] \n",
    "    N = G.shape[1]\n",
    "    P = (G[:, n:]*(-1) % q)\n",
    "    \n",
    "    id_matrix = np.identity(N-n, int)\n",
    "    \n",
    "    return np.vstack((P, id_matrix))\n",
    "\n",
    "def g(y):  # weight of element y is equal to amount of non-zero elements\n",
    "    non_zero = 0\n",
    "    for el in y:\n",
    "        if el != 0:\n",
    "            non_zero += 1\n",
    "    return non_zero\n",
    "\n",
    "def decoding_table(H, q):\n",
    "    N = H.shape[0]\n",
    "    n = N - H.shape[1]\n",
    "    H_t = np.transpose(H)\n",
    "    table = {}\n",
    "    \n",
    "    lst = [i for i in range(q)]\n",
    "    args = [lst for i in range(N)]\n",
    "    for y in list(itertools.product(*args)):\n",
    "        s = tuple(H_t.dot(y) % q)\n",
    "        if s not in table:\n",
    "            table[s] = list(y)\n",
    "            continue\n",
    "        if (g(y) < g(tuple(table[s]))):\n",
    "            table[s] = list(y)\n",
    "    return table"
   ]
  },
  {
   "cell_type": "markdown",
   "metadata": {
    "pycharm": {
     "name": "#%% md\n"
    }
   },
   "source": [
    "## Decodering\n",
    "\n",
    "We implementeren tot slot de methode $\\texttt{decode(c, F, p)}$ die een lijst met eventuele codewoorden $m$ decodeert in het veld $\\mathbb{Z}_p$ gegeven de generatormatrix F, waarbij tijdens de transmissie al dan niet fouten zijn toegevoegd. "
   ]
  },
  {
   "cell_type": "code",
   "execution_count": 3,
   "metadata": {
    "pycharm": {
     "name": "#%%\n"
    }
   },
   "outputs": [
    {
     "output_type": "error",
     "ename": "NameError",
     "evalue": "name 'np' is not defined",
     "traceback": [
      "\u001b[0;31m---------------------------------------------------------------------------\u001b[0m",
      "\u001b[0;31mNameError\u001b[0m                                 Traceback (most recent call last)",
      "Input \u001b[0;32mIn [3]\u001b[0m, in \u001b[0;36m<cell line: 14>\u001b[0;34m()\u001b[0m\n\u001b[1;32m     11\u001b[0m         lst\u001b[38;5;241m.\u001b[39mappend(a[\u001b[38;5;241m0\u001b[39m:n])\n\u001b[1;32m     12\u001b[0m     \u001b[38;5;28;01mreturn\u001b[39;00m lst\n\u001b[0;32m---> 14\u001b[0m F \u001b[38;5;241m=\u001b[39m \u001b[43mnp\u001b[49m\u001b[38;5;241m.\u001b[39marray([[\u001b[38;5;241m1\u001b[39m,\u001b[38;5;241m1\u001b[39m,\u001b[38;5;241m1\u001b[39m,\u001b[38;5;241m2\u001b[39m,\u001b[38;5;241m0\u001b[39m,\u001b[38;5;241m1\u001b[39m],[\u001b[38;5;241m2\u001b[39m,\u001b[38;5;241m0\u001b[39m,\u001b[38;5;241m2\u001b[39m,\u001b[38;5;241m1\u001b[39m,\u001b[38;5;241m2\u001b[39m,\u001b[38;5;241m1\u001b[39m],[\u001b[38;5;241m1\u001b[39m,\u001b[38;5;241m1\u001b[39m,\u001b[38;5;241m0\u001b[39m,\u001b[38;5;241m1\u001b[39m,\u001b[38;5;241m0\u001b[39m,\u001b[38;5;241m2\u001b[39m]])\u001b[38;5;241m.\u001b[39mT\n\u001b[1;32m     15\u001b[0m c \u001b[38;5;241m=\u001b[39m [[\u001b[38;5;241m1\u001b[39m, \u001b[38;5;241m0\u001b[39m, \u001b[38;5;241m2\u001b[39m, \u001b[38;5;241m0\u001b[39m,  \u001b[38;5;241m1\u001b[39m, \u001b[38;5;241m1\u001b[39m], [\u001b[38;5;241m1\u001b[39m, \u001b[38;5;241m2\u001b[39m, \u001b[38;5;241m2\u001b[39m, \u001b[38;5;241m0\u001b[39m, \u001b[38;5;241m1\u001b[39m, \u001b[38;5;241m1\u001b[39m], [\u001b[38;5;241m1\u001b[39m,\u001b[38;5;241m1\u001b[39m,\u001b[38;5;241m1\u001b[39m,\u001b[38;5;241m2\u001b[39m,\u001b[38;5;241m0\u001b[39m,\u001b[38;5;241m1\u001b[39m]]\n\u001b[1;32m     16\u001b[0m m \u001b[38;5;241m=\u001b[39m decode(c, F, \u001b[38;5;241m3\u001b[39m)\n",
      "\u001b[0;31mNameError\u001b[0m: name 'np' is not defined"
     ]
    }
   ],
   "source": [
    "def decode(c, F, p):\n",
    "    lst = []\n",
    "    H = parity_matrix(F, p)\n",
    "    H_t = np.transpose(H)\n",
    "    N = H.shape[0]\n",
    "    n = N - H.shape[1]\n",
    "    table = decoding_table(H, p)\n",
    "    for y in c:\n",
    "        s = tuple(H_t.dot(y) % p)\n",
    "        a = [a_i - b_i for a_i, b_i in zip(y, table[s])]\n",
    "        lst.append(a[0:n])\n",
    "    return lst\n",
    "    \n",
    "F = np.array([[1,1,1,2,0,1],[2,0,2,1,2,1],[1,1,0,1,0,2]]).T\n",
    "c = [[1, 0, 2, 0,  1, 1], [1, 2, 2, 0, 1, 1], [1,1,1,2,0,1]]\n",
    "m = decode(c, F, 3)\n",
    "assert(m == [[1, 0, 2], [1, 0, 2], [1, 1, 1]])"
   ]
  }
 ],
 "metadata": {
  "kernelspec": {
   "display_name": "Python 3 (ipykernel)",
   "language": "python",
   "name": "python3"
  },
  "language_info": {
   "codemirror_mode": {
    "name": "ipython",
    "version": 3
   },
   "file_extension": ".py",
   "mimetype": "text/x-python",
   "name": "python",
   "nbconvert_exporter": "python",
   "pygments_lexer": "ipython3",
   "version": "3.10.4-final"
  }
 },
 "nbformat": 4,
 "nbformat_minor": 4
}