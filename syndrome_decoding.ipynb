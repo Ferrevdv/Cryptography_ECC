{
 "cells": [
  {
   "cell_type": "markdown",
   "metadata": {
    "pycharm": {
     "name": "#%% md\n"
    }
   },
   "source": [
    "# Oefiningen TAI: Lineaire blok codes"
   ]
  },
  {
   "cell_type": "markdown",
   "metadata": {
    "pycharm": {
     "name": "#%% md\n"
    }
   },
   "source": [
    "<u>Naam:</u> Ferre Van der Vieren (r0851455)"
   ]
  },
  {
   "cell_type": "markdown",
   "metadata": {
    "pycharm": {
     "name": "#%% md\n"
    }
   },
   "source": [
    "In deze oefeningsessie zullen we stap voor stap de syndroomdecodering met lineaire blok codes implementeren. Gegeven een de generatormatrix $F$ en een codewoord, al dan niet met fout, is het de bedoeling om het originele woord te vinden."
   ]
  },
  {
   "cell_type": "markdown",
   "metadata": {
    "pycharm": {
     "name": "#%% md\n"
    }
   },
   "source": [
    "## Gauss eliminatie\n",
    "\n",
    "In de cursus werd gesteld dat elke generatormatrix kan omgevormd worden tot een equivalente generatormatrix met getransponeerde in volledige rij-echolonvorm. Om de code in standaardvorm te brengen is het dus de bedoeling om Gauss-eliminatie toe te passen op de getransponeerde van de generatormatrix. Over het algemeen zijn hier nog kolompermutaties ook nodig maar bij de voorbeelden in deze oefeningen is dit niet het geval dus moet je dit ook niet implementeren. Implementeer hieronder de methode $\\texttt{gauss(F, q)}$ die de generatormatrix $F$ omzet naar de equivalente code in standaardvorm. We werken steeds in het eindig veld $\\mathbb{Z}_q$ met $q$ elementen. Een deling door een bepaald getal wordt dus vervangen door een vermeningvuldiging met het multiplicatief invers van dat getal. Je moet dus eerst een methode $\\texttt{inv(a, q)}$ implementeren die het inverse element van $a$ berekent $\\mod q$. Je zou dit normaal wel al ergens eerder moeten gedaan hebben, als dit niet het geval is denk dan aan de stelling van Bezout en het uitgebreide Euclidische algoritme."
   ]
  },
  {
   "cell_type": "code",
   "execution_count": 45,
   "metadata": {
    "pycharm": {
     "name": "#%%\n"
    }
   },
   "outputs": [
    {
     "name": "stdout",
     "output_type": "stream",
     "text": [
      "True\n",
      "True\n",
      "True\n"
     ]
    }
   ],
   "source": [
    "import numpy as np\n",
    "\n",
    "def gcd(a, m):\n",
    "    return eaa(a, m, False)\n",
    "\n",
    "# using Extended Euclidean Algorithm to efficiently calculate gcd or Bezout's identity\n",
    "# @return\n",
    "    #  if (bezout == False): gcd(a, b)\n",
    "    #  if (bezout == True): Bezout's identity coefficients s and t for which gcd(a, b) = s*a + t*b\n",
    "def eaa(x, y, bezout = True):\n",
    "    (a, new_a) = (x, y)\n",
    "    (b, new_b) = (1, 0)\n",
    "    (c, new_c) = (0, 1)\n",
    "    \n",
    "    while new_a != 0:\n",
    "        q = a // new_a\n",
    "        \n",
    "        # coefficients\n",
    "        (a, new_a) = (new_a, a - q * new_a)\n",
    "        (b, new_b) = (new_b, b - q * new_b)\n",
    "        (c, new_c) = (new_c, c - q * new_c)\n",
    "        \n",
    "    if (bezout):\n",
    "        return (b, c)\n",
    "    return a\n",
    "\n",
    "def inv(a, q):\n",
    "    if (gcd(a, q) != 1):  # if gcd(a, q) != 1, then a is not a unit\n",
    "        return False\n",
    "    b = eaa(a, q)\n",
    "    return (b[0] % q)\n",
    "\n",
    "def gauss(A, p):\n",
    "    dim = A.shape\n",
    "    \n",
    "    if (dim[0] > dim[1]): # in this case F must be transposed (for this implementation to work)\n",
    "        A = np.transpose(A)\n",
    "        dim = A.shape\n",
    "\n",
    "    for i in range(dim[0]):\n",
    "        if A[i][i] != 0:\n",
    "            inverse = inv(A[i][i], p)\n",
    "            A[i] = np.dot(A[i], inverse)\n",
    "\n",
    "            for j in range(dim[0]):\n",
    "                if i == j:  \n",
    "                    continue  # skip pivot row\n",
    "                A[j] = np.add(A[j], np.dot(A[i], -A[j][i])) % p\n",
    "    return A % p\n",
    "\n",
    "print(inv(5, 9) == 2)\n",
    "print(np.allclose(gauss(np.array([[2, 0], [1, 1]]), 3), np.array([[1, 0],[0, 1]])))\n",
    "print(np.allclose(gauss(np.array([[1, 1, 2], [2, 0, 1]]), 3), np.array([[1, 0 , 2],[0,1,0]])))"
   ]
  },
  {
   "cell_type": "markdown",
   "metadata": {
    "pycharm": {
     "name": "#%% md\n"
    }
   },
   "source": [
    "## Syndroomdecoderingstabel\n",
    "\n",
    "Voor de decodering heb je de syndroomdecoderingstabel nodig. Deze geeft aan welk syndroom door welke fout veroorzaakt wordt. Hiervoor heb je eerst de pariteitsmatrix nodig, die je uit de standaardvorm van de generatormatrix haalt. De methode $\\texttt{parity_matrix(F, q)}$ berekent de pariteitsmatrix, gegeven een algemen generatormatrix $F$ over het veld $\\mathbb{Z}_q$. De methode $\\texttt{decoding_table(H, q)}$ geeft de syndroomdecoderingstabel weer in de vorm van een dictionary. De input $H$ is de pariteitsmatrix van een code."
   ]
  },
  {
   "cell_type": "code",
   "execution_count": 46,
   "metadata": {
    "pycharm": {
     "name": "#%%\n"
    }
   },
   "outputs": [],
   "source": [
    "import itertools\n",
    "\n",
    "def parity_matrix(F, q):\n",
    "    G = gauss(F, q)\n",
    "    n = G.shape[0] \n",
    "    N = G.shape[1]\n",
    "    P = (G[:, n:]*(-1) % q)\n",
    "    \n",
    "    id_matrix = np.identity(N-n, int)\n",
    "    \n",
    "    return np.vstack((P, id_matrix))\n",
    "\n",
    "def g(y):  # weight of element y is equal to amount of non-zero elements\n",
    "    non_zero = 0\n",
    "    for el in y:\n",
    "        if el != 0:\n",
    "            non_zero += 1\n",
    "    return non_zero\n",
    "\n",
    "def decoding_table(H, q):\n",
    "    N = H.shape[0]\n",
    "    n = N - H.shape[1]\n",
    "    H_t = np.transpose(H)\n",
    "    table = {}\n",
    "    \n",
    "    lst = [i for i in range(q)]\n",
    "    args = [lst for i in range(N)]\n",
    "    for y in list(itertools.product(*args)):\n",
    "        s = tuple(H_t.dot(y) % q)\n",
    "        if s not in table:\n",
    "            table[s] = list(y)\n",
    "            continue\n",
    "        if (g(y) < g(tuple(table[s]))):\n",
    "            table[s] = list(y)\n",
    "    return table\n",
    "\n",
    "# print(decoding_table(parity_matrix(np.array([[1, 1, 2], [2, 0, 1]]), 3), 3))\n",
    "# print(decoding_table(parity_matrix(np.array([[1, 0, 1, 1, 1, 0, 1], [0, 1, 1, 1, 1, 1, 0]]), 2), 2))"
   ]
  },
  {
   "cell_type": "markdown",
   "metadata": {
    "pycharm": {
     "name": "#%% md\n"
    }
   },
   "source": [
    "## Decodering\n",
    "\n",
    "Implementeer hieronder een methode $\\texttt{decode(c, F, p)}$ die een lijst met eventuele codewoorden $m$ decodeert in het veld $\\mathbb{Z}_p$ gegeven de generatormatrix F, waarbij tijdens de transmissie al dan niet fouten zijn toegevoegd. Let op: de elementen van $c$ zijn woorden die gecodeerd zijn met de systematische code die equivalent is aan de gegeven matrix $F$, je moet dus in je implementatie nog $F$ omzetten."
   ]
  },
  {
   "cell_type": "code",
   "execution_count": 47,
   "metadata": {
    "pycharm": {
     "name": "#%%\n"
    }
   },
   "outputs": [],
   "source": [
    "def decode(c, F, p):\n",
    "    lst = []\n",
    "    H = parity_matrix(F, p)\n",
    "    H_t = np.transpose(H)\n",
    "    N = H.shape[0]\n",
    "    n = N - H.shape[1]\n",
    "    table = decoding_table(H, p)\n",
    "    for y in c:\n",
    "        s = tuple(H_t.dot(y) % p)\n",
    "        a = [a_i - b_i for a_i, b_i in zip(y, table[s])]\n",
    "        lst.append(a[0:n])\n",
    "    return lst"
   ]
  },
  {
   "cell_type": "markdown",
   "metadata": {
    "pycharm": {
     "name": "#%% md\n"
    }
   },
   "source": [
    "Test je implementatie:"
   ]
  },
  {
   "cell_type": "code",
   "execution_count": 48,
   "metadata": {
    "pycharm": {
     "name": "#%%\n"
    }
   },
   "outputs": [
    {
     "data": {
      "text/plain": [
       "True"
      ]
     },
     "execution_count": 48,
     "metadata": {},
     "output_type": "execute_result"
    }
   ],
   "source": [
    "F = np.array([[1,1,1,2,0,1],[2,0,2,1,2,1],[1,1,0,1,0,2]]).T\n",
    "c = [[1, 0, 2, 0,  1, 1], [1, 2, 2, 0, 1, 1], [1,1,1,2,0,1]]\n",
    "m = decode(c, F, 3)\n",
    "m == [[1, 0, 2], [1, 0, 2], [1, 1, 1]]"
   ]
  },
  {
   "cell_type": "code",
   "execution_count": null,
   "metadata": {
    "pycharm": {
     "name": "#%%\n"
    }
   },
   "outputs": [],
   "source": []
  }
 ],
 "metadata": {
  "kernelspec": {
   "display_name": "Python 3 (ipykernel)",
   "language": "python",
   "name": "python3"
  },
  "language_info": {
   "codemirror_mode": {
    "name": "ipython",
    "version": 3
   },
   "file_extension": ".py",
   "mimetype": "text/x-python",
   "name": "python",
   "nbconvert_exporter": "python",
   "pygments_lexer": "ipython3",
   "version": "3.9.7"
  }
 },
 "nbformat": 4,
 "nbformat_minor": 4
}