{
 "cells": [
  {
   "cell_type": "markdown",
   "metadata": {},
   "source": [
    "# Priemfactorisatie"
   ]
  },
  {
   "cell_type": "markdown",
   "metadata": {},
   "source": [
    "**Naam**: Ferre Van der Vieren (r0851455)"
   ]
  },
  {
   "source": [
    "In dit kort verslag implementeren en vergelijken we drie veelgebruikte algoritmes voor priemfactorisatie: de naiëve trial devision, het algoritme van Shor en de stelling van Boneh. Het vinden van dergelijke efficiënte algoritmes is van groot belang, aangezien ze public-key schema's zoals RSA en Diffie-Hellman onveilig kunnen maken in de context van quantum computers."
   ],
   "cell_type": "markdown",
   "metadata": {}
  },
  {
   "source": [
    "## Trial division"
   ],
   "cell_type": "markdown",
   "metadata": {}
  },
  {
   "source": [
    "De meest eenvoudig te begrijpen manier om een getal te factoriseren in priemfactoren is trial division. We implementeren de methode $\\texttt{trial_division(n)}$ die een lijst teruggeeft met priemfactoren van $n$. Bij trial division deelt men enkel door priemgetallen. De methode $\\texttt{find_primes(m)}$ geeft dus een lijst van alle priemgetallen kleiner dan $m$ terug. "
   ],
   "cell_type": "markdown",
   "metadata": {}
  },
  {
   "cell_type": "code",
   "execution_count": 1,
   "metadata": {},
   "outputs": [],
   "source": [
    "import math\n",
    "def find_primes(m):\n",
    "    primes = []\n",
    "    \n",
    "    for num in range(2, m):\n",
    "        for divisor in range(2, num):\n",
    "            if (num % divisor) == 0:\n",
    "                break\n",
    "        else:\n",
    "            primes.append(num)\n",
    "    return primes\n",
    "\n",
    "def trial_division(n):\n",
    "    primefacs = []\n",
    "    \n",
    "    primes = find_primes(n) # 'every composite number m is divisible by a number d <= sqrt(m)'\n",
    "    num = n\n",
    "    i = 0\n",
    "    while i < len(primes):\n",
    "        if (num % primes[i] != 0):\n",
    "            i += 1\n",
    "        else:\n",
    "            primefacs.append(primes[i])\n",
    "            num = int(num / primes[i])\n",
    "            if (num == 1): # all primefacs found\n",
    "                break\n",
    "\n",
    "            i = 0  # restart loop\n",
    "    return primefacs"
   ]
  },
  {
   "cell_type": "markdown",
   "metadata": {},
   "source": [
    "## Schor's algoritme"
   ]
  },
  {
   "cell_type": "markdown",
   "metadata": {},
   "source": [
    "Hieronder implementeren we stapsgewijs het algoritme van Schor voor het factoriseren van een getal $m$ in twee priemfactoren $p$ en $q$ zodat $m = p\\cdot q$."
   ]
  },
  {
   "cell_type": "code",
   "execution_count": 2,
   "metadata": {
    "scrolled": true
   },
   "outputs": [],
   "source": [
    "import random\n",
    "import decimal\n",
    "\n",
    "def gcd(a, m):\n",
    "    return eaa(a, m, False)\n",
    "\n",
    "# using Extended Euclidean Algorithm to efficiently calculate gcd or Bezout's identity\n",
    "# @return\n",
    "    #  if (bezout == False): gcd(a, b)\n",
    "    #  if (bezout == True): Bezout's identity coefficients s and t for which gcd(a, b) = s*a + t*b\n",
    "def eaa(x, y, bezout = True):\n",
    "    (a, new_a) = (x, y)\n",
    "    (b, new_b) = (1, 0)\n",
    "    (c, new_c) = (0, 1)\n",
    "    \n",
    "    while new_a != 0:\n",
    "        q = a // new_a\n",
    "        \n",
    "        # coefficients\n",
    "        (a, new_a) = (new_a, a - q * new_a)\n",
    "        (b, new_b) = (new_b, b - q * new_b)\n",
    "        (c, new_c) = (new_c, c - q * new_c)\n",
    "        \n",
    "    if (bezout):\n",
    "        return (b, c)\n",
    "    return a\n",
    "\n",
    "def order(a, m):\n",
    "    if (gcd(a,m) != 1):\n",
    "        return -1\n",
    "    result = 1\n",
    "    i = 1\n",
    "    \n",
    "    for i in range(1,m):\n",
    "        result = (result * a) % m\n",
    "        if (result == 1):\n",
    "            return i\n",
    "\n",
    "# @pre\n",
    "    # m must be of the form m = pq with p,q primes\n",
    "# @return\n",
    "    # prime factorization of m (tuple of p and q) using Shor's algorithm\n",
    "def schor(m):\n",
    "    e = 0\n",
    "    a = 0\n",
    "    while (e % 2 == 1 or pow(a, int(e/2), m) == 1 or pow(a, int(e/2), m) == (m-1)):  # (-1 mod m) is (m-1 mod m) in Python; % always positive!\n",
    "        a = random.randint(1, m)\n",
    "        g = gcd(a, m)\n",
    "        if (g != 1):\n",
    "            return g, int((m / g))\n",
    "        e = order(a, m)\n",
    "        \n",
    "    p = gcd(m, (pow(a, int(e/2), m) - 1) % m)  # (a – b) % c = ((a % c) – (b % c)) % c\n",
    "    q = gcd(m, (pow(a, int(e/2), m) + 1) % m)  # (a + b) % c = ((a % c) + (b % c)) % c\n",
    "    \n",
    "    return p, q"
   ]
  },
  {
   "cell_type": "markdown",
   "metadata": {},
   "source": [
    "We testen de implementatie op het getal 8683."
   ]
  },
  {
   "cell_type": "markdown",
   "metadata": {},
   "source": [
    "<u> Antwoord:</u>"
   ]
  },
  {
   "cell_type": "code",
   "execution_count": 3,
   "metadata": {},
   "outputs": [
    {
     "output_type": "execute_result",
     "data": {
      "text/plain": [
       "(19, 457)"
      ]
     },
     "metadata": {},
     "execution_count": 3
    }
   ],
   "source": [
    "schor(8683)  # 8683 = 19 * 457"
   ]
  },
  {
   "cell_type": "markdown",
   "metadata": {},
   "source": [
    "## Stelling van Boneh"
   ]
  },
  {
   "cell_type": "markdown",
   "metadata": {},
   "source": [
    "Het bewijs van de stelling van Boneh uit het handboek van Lindsay N. Childs is constructief en biedt dus een manier om $m = p\\cdot q$ te factoriseren. We implementeren de methode $\\texttt{boneh(m, e, d, n)}$ die met een hoge waarschijnlijkheid $p$ en $q$ vindt, gegeven het getal $m$, de encryptie en decryptiesleutel $e, d$ en een gekozen aantal willekeurige getallen $n$. De kans "
   ]
  },
  {
   "cell_type": "code",
   "execution_count": 4,
   "metadata": {},
   "outputs": [],
   "source": [
    "def boneh(m, e, d, n):\n",
    "    k = e*d - 1\n",
    "    \n",
    "    g = 0\n",
    "    temp = k\n",
    "    r = 0\n",
    "    while ((r % 2) == 0):  # k = (2^g)r for r odd\n",
    "        g += 1\n",
    "        r = (k / pow(2, g))\n",
    "    r = int(r)     # needed for later on\n",
    "    \n",
    "    i = 0\n",
    "    while i < n:\n",
    "        w = random.randint(1, m-1) \n",
    "        if (gcd(w, m) != 1):    # w is invertible in Z_m (and thus a unit) <=> gcd(w, m) = 1\n",
    "            i -= 1              # w is no unit, thus this does not count as an iteration\n",
    "            continue\n",
    "        for f in range(1, g+1): \n",
    "            c = pow(w, int(pow(2, f-1)*r), m)\n",
    "            if (c != 1 and c != (m-1) and pow(c, 2, m) == 1):\n",
    "                return gcd(c+1, m), gcd(c-1, m)\n",
    "        i += 1\n",
    "        \n",
    "    return -1   # did not find factorisation (chance is less than 1/(2^n))"
   ]
  },
  {
   "cell_type": "code",
   "execution_count": 5,
   "metadata": {},
   "outputs": [
    {
     "output_type": "execute_result",
     "data": {
      "text/plain": [
       "(457, 19)"
      ]
     },
     "metadata": {},
     "execution_count": 5
    }
   ],
   "source": [
    "boneh(8683, 5, 4925, 100) # 8683 = 19 * 457"
   ]
  },
  {
   "cell_type": "markdown",
   "metadata": {},
   "source": [
    "We vergelijken nu de snelheid van de implementaties, gebruik makend van de library $\\texttt{timeit}$. Hieruit kunnen we concluderen dat de stelling van Boneh resulteert in de snellere implementatie door het gebruiken van de RSA sleutels, terwijl Schor's algoritme een goed alternatief biedt voor het vinden van de priemfactorisatie buiten de context van RSA. "
   ]
  },
  {
   "cell_type": "code",
   "execution_count": 6,
   "metadata": {},
   "outputs": [
    {
     "output_type": "stream",
     "name": "stdout",
     "text": [
      "265 ms ± 23.1 ms per loop (mean ± std. dev. of 7 runs, 1 loop each)\n",
      "77.7 µs ± 2.73 µs per loop (mean ± std. dev. of 7 runs, 10,000 loops each)\n",
      "17.1 µs ± 1.46 µs per loop (mean ± std. dev. of 7 runs, 100,000 loops each)\n"
     ]
    }
   ],
   "source": [
    "import timeit\n",
    "\n",
    "%timeit trial_division(8683)       # obviously the slowest\n",
    "%timeit schor(8683)                # much, much more efficient than trial_division\n",
    "%timeit boneh(8683, 5, 4925, 100)  # slightly faster runtime than schor(), but may vary dependent on the vaue o\n"
   ]
  },
  {
   "cell_type": "code",
   "execution_count": null,
   "metadata": {},
   "outputs": [],
   "source": []
  }
 ],
 "metadata": {
  "kernelspec": {
   "display_name": "Python 3 (ipykernel)",
   "language": "python",
   "name": "python3"
  },
  "language_info": {
   "codemirror_mode": {
    "name": "ipython",
    "version": 3
   },
   "file_extension": ".py",
   "mimetype": "text/x-python",
   "name": "python",
   "nbconvert_exporter": "python",
   "pygments_lexer": "ipython3",
   "version": "3.10.4-final"
  }
 },
 "nbformat": 4,
 "nbformat_minor": 4
}