{
 "cells": [
  {
   "cell_type": "markdown",
   "metadata": {},
   "source": [
    "# Priemtesten en factorisatie"
   ]
  },
  {
   "cell_type": "markdown",
   "metadata": {},
   "source": [
    "**Naam**: Ferre Van der Vieren (r0851455)"
   ]
  },
  {
   "cell_type": "markdown",
   "metadata": {},
   "source": [
    "## Trial division"
   ]
  },
  {
   "cell_type": "markdown",
   "metadata": {},
   "source": [
    "De meest eenvoudig te begrijpen manier om een getal te factoriseren in priemfactoren is trial division. Implementeeer de methode $\\texttt{trial_division(n)}$ die een lijst teruggeeft met priemfactoren van $n$. Bij trial division moet je enkel delen door priemgetallen. De methode $\\texttt{find_primes(m)}$ geeft dus een lijst van alle priemgetallen kleiner dan $m$ terug. Indien je dit niet vindt, probeer dan trial division te implementeren zonder een lijst van priemgetallen te gebruiken."
   ]
  },
  {
   "cell_type": "code",
   "execution_count": 76,
   "metadata": {},
   "outputs": [],
   "source": [
    "import math\n",
    "def find_primes(m):\n",
    "    primes = []\n",
    "    \n",
    "    for num in range(2, m):\n",
    "        for divisor in range(2, num):\n",
    "            if (num % divisor) == 0:\n",
    "                break\n",
    "        else:\n",
    "            primes.append(num)\n",
    "    return primes\n",
    "\n",
    "def trial_division(n):\n",
    "    primefacs = []\n",
    "    \n",
    "    primes = find_primes(n) # 'every composite number m is divisible by a number d <= sqrt(m)'\n",
    "    num = n\n",
    "    i = 0\n",
    "    while i < len(primes):\n",
    "        if (num % primes[i] != 0):\n",
    "            i += 1\n",
    "        else:\n",
    "            primefacs.append(primes[i])\n",
    "            num = int(num / primes[i])\n",
    "            if (num == 1): # all primefacs found\n",
    "                break\n",
    "\n",
    "            i = 0  # restart loop\n",
    "    return primefacs"
   ]
  },
  {
   "cell_type": "markdown",
   "metadata": {},
   "source": [
    "## Schor's algoritme"
   ]
  },
  {
   "cell_type": "markdown",
   "metadata": {},
   "source": [
    "Hieronder implementeren we stapsgewijs het algoritme van Schor voor het factoriseren van een getal $m$ in twee priemfactoren $p$ en $q$ zodat $m = p\\cdot q$. Op het vinden van de orde van een element na is elke stap eigenlijk al eerder in een andere oefening geimplementeerd. Indien je vorige computeroefeningen gedaan hebt kan je deze dus gewoon kopiëren. "
   ]
  },
  {
   "cell_type": "code",
   "execution_count": 77,
   "metadata": {
    "scrolled": true
   },
   "outputs": [],
   "source": [
    "import random\n",
    "import decimal\n",
    "\n",
    "def gcd(a, m):\n",
    "    return eaa(a, m, False)\n",
    "\n",
    "# using Extended Euclidean Algorithm to efficiently calculate gcd or Bezout's identity\n",
    "# @return\n",
    "    #  if (bezout == False): gcd(a, b)\n",
    "    #  if (bezout == True): Bezout's identity coefficients s and t for which gcd(a, b) = s*a + t*b\n",
    "def eaa(x, y, bezout = True):\n",
    "    (a, new_a) = (x, y)\n",
    "    (b, new_b) = (1, 0)\n",
    "    (c, new_c) = (0, 1)\n",
    "    \n",
    "    while new_a != 0:\n",
    "        q = a // new_a\n",
    "        \n",
    "        # coefficients\n",
    "        (a, new_a) = (new_a, a - q * new_a)\n",
    "        (b, new_b) = (new_b, b - q * new_b)\n",
    "        (c, new_c) = (new_c, c - q * new_c)\n",
    "        \n",
    "    if (bezout):\n",
    "        return (b, c)\n",
    "    return a\n",
    "\n",
    "def order(a, m):\n",
    "    if (gcd(a,m) != 1):\n",
    "        return -1\n",
    "    result = 1\n",
    "    i = 1\n",
    "    \n",
    "    for i in range(1,m):\n",
    "        result = (result * a) % m\n",
    "        if (result == 1):\n",
    "            return i\n",
    "\n",
    "# @pre\n",
    "    # m must be of the form m = pq with p,q primes\n",
    "# @return\n",
    "    # prime factorization of m (tuple of p and q) using Shor's algorithm\n",
    "def schor(m):\n",
    "    e = 0\n",
    "    a = 0\n",
    "    while (e % 2 == 1 or pow(a, int(e/2), m) == 1 or pow(a, int(e/2), m) == (m-1)):  # (-1 mod m) is (m-1 mod m) in Python; % always positive!\n",
    "        a = random.randint(1, m)\n",
    "        g = gcd(a, m)\n",
    "        if (g != 1):\n",
    "            return g, int((m / g))\n",
    "        e = order(a, m)\n",
    "        \n",
    "    p = gcd(m, (pow(a, int(e/2), m) - 1) % m)  # (a – b) % c = ((a % c) – (b % c)) % c\n",
    "    q = gcd(m, (pow(a, int(e/2), m) + 1) % m)  # (a + b) % c = ((a % c) + (b % c)) % c\n",
    "    \n",
    "    return p, q"
   ]
  },
  {
   "cell_type": "markdown",
   "metadata": {},
   "source": [
    "Test op het getal 8683 om te kijken of je implementatie werkt."
   ]
  },
  {
   "cell_type": "markdown",
   "metadata": {},
   "source": [
    "<u> Antwoord:</u>"
   ]
  },
  {
   "cell_type": "code",
   "execution_count": 78,
   "metadata": {},
   "outputs": [
    {
     "data": {
      "text/plain": [
       "(19, 457)"
      ]
     },
     "execution_count": 78,
     "metadata": {},
     "output_type": "execute_result"
    }
   ],
   "source": [
    "schor(8683)  # 8683 = 19 * 457"
   ]
  },
  {
   "cell_type": "markdown",
   "metadata": {},
   "source": [
    "## Stelling van Boneh"
   ]
  },
  {
   "cell_type": "markdown",
   "metadata": {},
   "source": [
    "Het bewijs van de stelling van Boneh uit de cursus is constructief en biedt dus een manier om $m = p\\cdot q$ te factoriseren. Implementeer een methode $\\texttt{boneh(m, e, d, n)}$ die met een hoge waarschijnlijkheid $p$ en $q$ vindt, gegeven het getal $m$, de encryptie en decryptiesleutel $e, d$ en een gekozen aantal willekeurige getallen $n$."
   ]
  },
  {
   "cell_type": "code",
   "execution_count": 79,
   "metadata": {},
   "outputs": [],
   "source": [
    "def boneh(m, e, d, n):\n",
    "    k = e*d - 1\n",
    "    \n",
    "    g = 0\n",
    "    temp = k\n",
    "    r = 0\n",
    "    while ((r % 2) == 0):  # k = (2^g)r for r odd\n",
    "        g += 1\n",
    "        r = (k / pow(2, g))\n",
    "    r = int(r)     # needed for later on\n",
    "    \n",
    "    i = 0\n",
    "    while i < n:\n",
    "        w = random.randint(1, m-1) \n",
    "        if (gcd(w, m) != 1):    # w is invertible in Z_m (and thus a unit) <=> gcd(w, m) = 1\n",
    "            i -= 1              # w is no unit, thus this does not count as an iteration\n",
    "            continue\n",
    "        for f in range(1, g+1): \n",
    "            c = pow(w, int(pow(2, f-1)*r), m)\n",
    "            if (c != 1 and c != (m-1) and pow(c, 2, m) == 1):\n",
    "                return gcd(c+1, m), gcd(c-1, m)\n",
    "        i += 1\n",
    "        \n",
    "    return -1   # did not find factorisation (chance is less than 1/(2^n))"
   ]
  },
  {
   "cell_type": "code",
   "execution_count": 80,
   "metadata": {},
   "outputs": [
    {
     "data": {
      "text/plain": [
       "(457, 19)"
      ]
     },
     "execution_count": 80,
     "metadata": {},
     "output_type": "execute_result"
    }
   ],
   "source": [
    "boneh(8683, 5, 4925, 100)"
   ]
  },
  {
   "cell_type": "markdown",
   "metadata": {},
   "source": [
    "Vergelijk nu de snelheid van de implementaties. Gebruik hiervoor [timeit](https://docs.python.org/2/library/timeit.html). "
   ]
  },
  {
   "cell_type": "code",
   "execution_count": 75,
   "metadata": {},
   "outputs": [
    {
     "name": "stdout",
     "output_type": "stream",
     "text": [
      "262 ms ± 12.2 ms per loop (mean ± std. dev. of 7 runs, 1 loop each)\n",
      "77.8 µs ± 7.18 µs per loop (mean ± std. dev. of 7 runs, 10000 loops each)\n",
      "15.3 µs ± 2.72 µs per loop (mean ± std. dev. of 7 runs, 10000 loops each)\n"
     ]
    }
   ],
   "source": [
    "import timeit\n",
    "\n",
    "%timeit trial_division(8683)       # obviously the slowest\n",
    "%timeit schor(8683)                # much, much more efficient than trial_division\n",
    "%timeit boneh(8683, 5, 4925, 100)  # slightly faster runtime than schor()\n"
   ]
  },
  {
   "cell_type": "code",
   "execution_count": null,
   "metadata": {},
   "outputs": [],
   "source": []
  }
 ],
 "metadata": {
  "kernelspec": {
   "display_name": "Python 3 (ipykernel)",
   "language": "python",
   "name": "python3"
  },
  "language_info": {
   "codemirror_mode": {
    "name": "ipython",
    "version": 3
   },
   "file_extension": ".py",
   "mimetype": "text/x-python",
   "name": "python",
   "nbconvert_exporter": "python",
   "pygments_lexer": "ipython3",
   "version": "3.9.7"
  }
 },
 "nbformat": 4,
 "nbformat_minor": 4
}
